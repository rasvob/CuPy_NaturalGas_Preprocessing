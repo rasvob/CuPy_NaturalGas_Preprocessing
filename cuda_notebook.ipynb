{
 "cells": [
  {
   "cell_type": "code",
   "execution_count": 1,
   "metadata": {},
   "outputs": [
    {
     "name": "stderr",
     "output_type": "stream",
     "text": [
      "/home/fei/svo0175/miniconda3/lib/python3.7/site-packages/treelite/gallery/__init__.py:7: FutureWarning: treelite.gallery.sklearn has been moved to treelite.sklearn. treelite.gallery.sklearn will be removed in version 1.1.\n",
      "  FutureWarning)\n",
      "/home/fei/svo0175/miniconda3/lib/python3.7/site-packages/treelite/gallery/sklearn/__init__.py:9: FutureWarning: treelite.gallery.sklearn has been moved to treelite.sklearn. treelite.gallery.sklearn will be removed in version 1.1.\n",
      "  FutureWarning)\n"
     ]
    }
   ],
   "source": [
    "import cupy as cp\n",
    "import numpy as np\n",
    "import pandas as pd\n",
    "import time\n",
    "import cudf as cf\n",
    "import cuml as ml\n",
    "\n",
    "from sklearn.model_selection import KFold, train_test_split, StratifiedKFold\n",
    "from sklearn.ensemble import RandomForestRegressor, AdaBoostRegressor, ExtraTreesRegressor\n",
    "from sklearn.metrics import accuracy_score, mean_absolute_error, mean_squared_error\n",
    "from sklearn.linear_model import Ridge, Lasso, ElasticNet\n",
    "from sklearn.preprocessing import StandardScaler, MinMaxScaler, RobustScaler\n",
    "from evaluation_metrics import compute_metrics, compute_metrics_csv, mean_absolute_percentage_error, symetric_mean_absolute_percentage_error\n",
    "\n",
    "from statsmodels.tsa.stattools import acf, pacf, ccf, ccovf\n",
    "from statsmodels.tsa.seasonal import STL\n",
    "from statsmodels.graphics.tsaplots import plot_acf, plot_pacf \n",
    "from statsmodels.tsa.stattools import adfuller, kpss\n",
    "from scipy.stats import boxcox, yeojohnson\n",
    "from scipy.special import inv_boxcox\n",
    "import rstl\n",
    "\n",
    "from time import perf_counter"
   ]
  },
  {
   "cell_type": "code",
   "execution_count": 2,
   "metadata": {},
   "outputs": [],
   "source": [
    "def cuda_test_batch():\n",
    "    print(cp.__version__)\n",
    "    print(cf.__version__)\n",
    "    print(ml.__version__)\n",
    "\n",
    "    s = time.time()\n",
    "    x_cpu = np.ones((1000,1000,1000))\n",
    "    e = time.time()\n",
    "    print(e - s)\n",
    "\n",
    "    s = time.time()\n",
    "    x_gpu = cp.ones((1000,1000,1000))\n",
    "    cp.cuda.Stream.null.synchronize()\n",
    "    e = time.time()\n",
    "    print(e - s)\n",
    "    \n",
    "    ### Numpy and CPU\n",
    "    s = time.time()\n",
    "    x_cpu *= 5\n",
    "    x_cpu *= x_cpu\n",
    "    x_cpu += x_cpu\n",
    "    e = time.time()\n",
    "    print(e - s)\n",
    "\n",
    "    ### CuPy and GPU\n",
    "    s = time.time()\n",
    "    x_gpu *= 5\n",
    "    x_gpu *= x_gpu\n",
    "    x_gpu += x_gpu\n",
    "    cp.cuda.Stream.null.synchronize()\n",
    "    e = time.time()\n",
    "    print(e - s)\n"
   ]
  },
  {
   "cell_type": "code",
   "execution_count": 3,
   "metadata": {},
   "outputs": [
    {
     "name": "stdout",
     "output_type": "stream",
     "text": [
      "7.6.0\n",
      "0.15.0a+1827.g585d94c21\n",
      "0.15.0a+772.gade1b044c\n",
      "2.1854074001312256\n",
      "2.2422897815704346\n",
      "2.784980058670044\n",
      "0.24076509475708008\n"
     ]
    }
   ],
   "source": [
    "cuda_test_batch()"
   ]
  },
  {
   "cell_type": "code",
   "execution_count": 4,
   "metadata": {},
   "outputs": [],
   "source": [
    "def fill_seasonal(month, day, hour, seasonal_dict):\n",
    "    season = seasonal_dict[month]\n",
    "    return season[(season.Day_of_week == day) & (season.Hour == hour)].Seasonal.values[0]"
   ]
  },
  {
   "cell_type": "code",
   "execution_count": 5,
   "metadata": {},
   "outputs": [
    {
     "name": "stderr",
     "output_type": "stream",
     "text": [
      "/home/fei/svo0175/miniconda3/lib/python3.7/site-packages/fsspec/implementations/local.py:33: FutureWarning: The default value of auto_mkdir=True has been deprecated and will be changed to auto_mkdir=False by default in a future release.\n",
      "  FutureWarning,\n"
     ]
    }
   ],
   "source": [
    "n_diff=24\n",
    "df = cf.read_csv('data/ppnet_metar_v7.csv',  sep=';', index_col=0)\n",
    "# TODO: Odkomentovat pro repeat datasetu 10x\n",
    "# df = cf.concat([df]*10, ignore_index=True)\n",
    "#     start = perf_counter()\n",
    "df = df[df.Year < 2019]\n",
    "df['TestSet'] = 0\n",
    "df.loc[df.Year == 2018, 'TestSet'] = 1\n",
    "X, y = df.drop('Consumption', axis=1), df.Consumption\n",
    "\n",
    "y_diff = y.diff(n_diff).dropna()\n",
    "y_diff_index = y_diff.index\n",
    "X['Consumption_diff_1'] = y_diff\n",
    "lags = cp.array([24, 25, 35, 36, 37, 47, 48, 49, 71,72,73, 95, 96, 97, 119, 120, 121, 143,144,145, 168, 167, 169])\n",
    "lags_arr = cp.arange(n_diff, 24)\n",
    "lags_con = cp.concatenate((lags, lags_arr))\n",
    "\n",
    "for x in lags:\n",
    "    X[f'Consumption_lag_{x}'] = y.shift(x)\n",
    "    X[f'Temperature_lag_{x}'] = X['Temperature'].shift(x)\n",
    "    X[f'Consumption_diff_1_lag_{x}'] = X['Consumption_diff_1'].shift(x)\n",
    "    X[f'Humidity_lag_{x}'] = X['Humidity'].shift(x)\n",
    "    X[f'Cena_lag_{x}'] = X['Cena_bfill'].shift(x)\n",
    "    X[f'Windspeed_lag_{x}'] = X['Wind_speed'].shift(x)\n",
    "    X[f'Pressure_lag_{x}'] = X['Pressure'].shift(x)\n",
    "\n",
    "X['Day_of_week_sin'] = cp.sin(2 * cp.pi * X['Day_of_week']/7.0)\n",
    "X['Day_of_week_cos'] = cp.cos(2 * cp.pi * X['Day_of_week']/7.0)\n",
    "X['Month_sin'] = cp.sin(2 * cp.pi * X['Month']/12.0)\n",
    "X['Month_cos'] = cp.cos(2 * cp.pi * X['Month']/12.0)\n",
    "X['Hour_sin'] = cp.sin(2 * cp.pi * X['Hour']/23.0)\n",
    "X['Hour_cos'] = cp.cos(2 * cp.pi * X['Hour']/23.0)\n",
    "X['Day_sin'] = cp.sin(2 * cp.pi * X['Day']/31.0)\n",
    "X['Day_cos'] = cp.cos(2 * cp.pi * X['Day']/31.0)\n",
    "\n",
    "\n",
    "\n",
    "# seasonal_dict = {k:X[(X.TestSet == 0) & (X.Month == k)].groupby(['Day_of_week', 'Hour']).Seasonal.mean().reset_index() for k in  X.Month.value_counts().index.values}\n",
    "# print(seasonal_dict)\n",
    "\n",
    "seasonal_cparray = cp.ndarray((12, 7, 23))\n",
    "\n",
    "# cp.cuda.Stream.null.synchronize()\n",
    "# end = perf_counter()\n",
    "# print(f'Difference: {end - start}')"
   ]
  },
  {
   "cell_type": "code",
   "execution_count": 6,
   "metadata": {},
   "outputs": [
    {
     "data": {
      "text/plain": [
       "0        -6108.0\n",
       "1       -11776.0\n",
       "2       -14400.0\n",
       "3       -14668.0\n",
       "4        -7944.0\n",
       "          ...   \n",
       "52555    -8593.0\n",
       "52556   -11178.0\n",
       "52557   -12489.0\n",
       "52558   -15179.0\n",
       "52559   -10751.0\n",
       "Length: 52560, dtype: float64"
      ]
     },
     "execution_count": 6,
     "metadata": {},
     "output_type": "execute_result"
    }
   ],
   "source": [
    "pd.Series(cp.asnumpy(y_diff.values))"
   ]
  },
  {
   "cell_type": "code",
   "execution_count": 10,
   "metadata": {},
   "outputs": [
    {
     "name": "stdout",
     "output_type": "stream",
     "text": [
      "0.0512222945690155\n"
     ]
    }
   ],
   "source": [
    "start_rstl = perf_counter()\n",
    "y_diff_np = cp.asnumpy(y_diff.values)[:100]\n",
    "stl_decomp = rstl.STL(y_diff_np, freq=7, robust=False, s_window='periodic')\n",
    "end_rstl = perf_counter()\n",
    "print(end_rstl - start_rstl)"
   ]
  },
  {
   "cell_type": "code",
   "execution_count": 11,
   "metadata": {},
   "outputs": [
    {
     "data": {
      "text/plain": [
       "array([-17459.60046692, -13469.53055977,  -9479.46065262,  -5250.27819633,\n",
       "        -1021.09574004,   4135.6341368 ,   9292.36401363,  12715.00101151,\n",
       "        16137.63800939,  15219.53161184,  14301.42521428,  10821.78362204,\n",
       "         7342.1420298 ,   4424.30569335,   1506.4693569 ,    820.53108988,\n",
       "          134.59282285,    267.5818156 ,    400.57080835,    796.92623854,\n",
       "         1193.28166872,   1596.6975249 ,   2000.11338108,   2887.2339667 ,\n",
       "         3774.35455232,   4795.46713253,   5816.57971275,   6190.75392982,\n",
       "         6564.9281469 ,   6135.95812943,   5706.98811195,   5528.53531329,\n",
       "         5350.08251462,   6823.7573431 ,   8297.43217158,   9726.04183233,\n",
       "        11154.65149308,  10563.03958227,   9971.42767147,   6534.020426  ,\n",
       "         3096.61318054,    146.64633623,  -2803.32050808,  -4615.96443356,\n",
       "        -6428.60835903,  -7601.4750805 ,  -8774.34180196, -10420.47206324,\n",
       "       -12066.60232453, -14258.90838406, -16451.21444359, -18094.39510838,\n",
       "       -19737.57577317, -21418.6334005 , -23099.69102782, -25478.65194227,\n",
       "       -27857.61285671, -30794.86340037, -33732.11394403, -34876.21989657,\n",
       "       -36020.32584911, -34869.6298355 , -33718.9338219 , -31425.64894084,\n",
       "       -29132.36405978, -28371.68208224, -27611.0001047 , -27575.35141659,\n",
       "       -27539.70272847, -26592.51478816, -25645.32684785, -23746.47950105,\n",
       "       -21847.63215425, -22122.27580562, -22396.91945699, -26517.20592724,\n",
       "       -30637.4923975 , -33296.12585433, -35954.75931116, -33192.41189277,\n",
       "       -30430.06447437, -23797.37900176, -17164.69352915, -12975.94109395,\n",
       "        -8787.18865874,  -7803.67063423,  -6820.15260971,  -6664.45795197,\n",
       "        -6508.76329423,  -4132.82028988,  -1756.87728553,   1720.5077476 ,\n",
       "         5197.89278072,   7438.30580119,   9678.71882166,   9416.500901  ,\n",
       "         9154.28298034,   8560.182146  ,   7966.08131166,   7183.80944351])"
      ]
     },
     "execution_count": 11,
     "metadata": {},
     "output_type": "execute_result"
    }
   ],
   "source": [
    "stl_decomp.trend"
   ]
  },
  {
   "cell_type": "code",
   "execution_count": 36,
   "metadata": {},
   "outputs": [],
   "source": [
    "trend, seasonal, residual, weights = cp.array(stl_decomp.trend), cp.array(stl_decomp.seasonal), cp.array(stl_decomp.remainder), cp.array(stl_decomp.weights)"
   ]
  },
  {
   "cell_type": "code",
   "execution_count": 19,
   "metadata": {},
   "outputs": [],
   "source": [
    "residual_trend = residual + trend"
   ]
  },
  {
   "cell_type": "code",
   "execution_count": 20,
   "metadata": {},
   "outputs": [
    {
     "data": {
      "text/plain": [
       "(52584, 203)"
      ]
     },
     "execution_count": 20,
     "metadata": {},
     "output_type": "execute_result"
    }
   ],
   "source": [
    "X.shape"
   ]
  },
  {
   "cell_type": "code",
   "execution_count": 21,
   "metadata": {},
   "outputs": [
    {
     "data": {
      "text/plain": [
       "(52584,)"
      ]
     },
     "execution_count": 21,
     "metadata": {},
     "output_type": "execute_result"
    }
   ],
   "source": [
    "y.shape"
   ]
  },
  {
   "cell_type": "code",
   "execution_count": 30,
   "metadata": {},
   "outputs": [
    {
     "name": "stdout",
     "output_type": "stream",
     "text": [
      "Difference RSTL: 237.84162295609713\n"
     ]
    }
   ],
   "source": [
    "X[f'Seasonal'] = cf.Series((cp.concatenate([cp.array([cp.nan]*n_diff), seasonal])), index=X.index)\n",
    "X[f'Residual'] = cf.Series((cp.concatenate([cp.array([cp.nan]*n_diff), residual_trend])), index=X.index)\n",
    "X[f'Trend'] = cf.Series((cp.concatenate([cp.array([cp.nan]*n_diff),trend])), index=X.index)"
   ]
  },
  {
   "cell_type": "code",
   "execution_count": null,
   "metadata": {},
   "outputs": [],
   "source": []
  }
 ],
 "metadata": {
  "kernelspec": {
   "display_name": "Python 3",
   "language": "python",
   "name": "python3"
  },
  "language_info": {
   "codemirror_mode": {
    "name": "ipython",
    "version": 3
   },
   "file_extension": ".py",
   "mimetype": "text/x-python",
   "name": "python",
   "nbconvert_exporter": "python",
   "pygments_lexer": "ipython3",
   "version": "3.7.7"
  }
 },
 "nbformat": 4,
 "nbformat_minor": 4
}
