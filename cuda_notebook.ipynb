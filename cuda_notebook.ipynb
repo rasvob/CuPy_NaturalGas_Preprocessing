{
 "cells": [
  {
   "cell_type": "code",
   "execution_count": 1,
   "metadata": {},
   "outputs": [
    {
     "name": "stderr",
     "output_type": "stream",
     "text": [
      "/home/fei/svo0175/miniconda3/lib/python3.7/site-packages/treelite/gallery/__init__.py:7: FutureWarning: treelite.gallery.sklearn has been moved to treelite.sklearn. treelite.gallery.sklearn will be removed in version 1.1.\n",
      "  FutureWarning)\n",
      "/home/fei/svo0175/miniconda3/lib/python3.7/site-packages/treelite/gallery/sklearn/__init__.py:9: FutureWarning: treelite.gallery.sklearn has been moved to treelite.sklearn. treelite.gallery.sklearn will be removed in version 1.1.\n",
      "  FutureWarning)\n"
     ]
    }
   ],
   "source": [
    "import cupy as cp\n",
    "import numpy as np\n",
    "import pandas as pd\n",
    "import time\n",
    "import cudf as cf\n",
    "import cuml as ml\n",
    "import rmm\n",
    "\n",
    "from sklearn.model_selection import KFold, train_test_split, StratifiedKFold\n",
    "import rstl\n",
    "\n",
    "from time import perf_counter"
   ]
  },
  {
   "cell_type": "code",
   "execution_count": 2,
   "metadata": {},
   "outputs": [],
   "source": [
    "from cuml.ensemble import RandomForestRegressor\n",
    "from cuml.metrics import mean_absolute_error, mean_squared_error, r2_score"
   ]
  },
  {
   "cell_type": "code",
   "execution_count": 3,
   "metadata": {},
   "outputs": [],
   "source": [
    "import matplotlib.pyplot as plt"
   ]
  },
  {
   "cell_type": "code",
   "execution_count": 4,
   "metadata": {},
   "outputs": [],
   "source": [
    "cp.cuda.set_allocator(rmm.rmm_cupy_allocator)"
   ]
  },
  {
   "cell_type": "code",
   "execution_count": 5,
   "metadata": {},
   "outputs": [],
   "source": [
    "def cuda_test_batch():\n",
    "    print(cp.__version__)\n",
    "    print(cf.__version__)\n",
    "    print(ml.__version__)\n",
    "\n",
    "    s = time.time()\n",
    "    x_cpu = np.ones((1000,1000,1000))\n",
    "    e = time.time()\n",
    "    print(e - s)\n",
    "\n",
    "    s = time.time()\n",
    "    x_gpu = cp.ones((1000,1000,1000))\n",
    "    cp.cuda.Stream.null.synchronize()\n",
    "    e = time.time()\n",
    "    print(e - s)\n",
    "    \n",
    "    ### Numpy and CPU\n",
    "    s = time.time()\n",
    "    x_cpu *= 5\n",
    "    x_cpu *= x_cpu\n",
    "    x_cpu += x_cpu\n",
    "    e = time.time()\n",
    "    print(e - s)\n",
    "\n",
    "    ### CuPy and GPU\n",
    "    s = time.time()\n",
    "    x_gpu *= 5\n",
    "    x_gpu *= x_gpu\n",
    "    x_gpu += x_gpu\n",
    "    cp.cuda.Stream.null.synchronize()\n",
    "    e = time.time()\n",
    "    print(e - s)\n"
   ]
  },
  {
   "cell_type": "code",
   "execution_count": 6,
   "metadata": {},
   "outputs": [],
   "source": [
    "def lowess_cp_inline(x, y, f=2. / 3., it=3, dl = 1.0):\n",
    "    \"\"\"lowess(x, y, f=2./3., iter=3) -> yest\n",
    "    Lowess smoother: Robust locally weighted regression.\n",
    "    The lowess function fits a nonparametric regression curve to a scatterplot.\n",
    "    The arrays x and y contain an equal number of elements; each pair\n",
    "    (x[i], y[i]) defines a data point in the scatterplot. The function returns\n",
    "    the estimated (smooth) values of y.\n",
    "    The smoothing span is given by f. A larger value for f will result in a\n",
    "    smoother curve. The number of robustifying iterations is given by iter. The\n",
    "    function will run faster with a smaller number of iterations.\n",
    "    \"\"\"\n",
    "    n = x.shape[0]\n",
    "    r = cp.int(cp.ceil(f * n))\n",
    "    h = cp.zeros(n)\n",
    "    for i in range(n):\n",
    "        h[i] = cp.sort(cp.abs(x - x[i]))[r]\n",
    "    yest = cp.zeros(n)\n",
    "    delta = cp.repeat(cp.array(dl), n)\n",
    "    for iteration in range(it):\n",
    "        for i in range(n):\n",
    "            row = i\n",
    "            weights = delta * cp.power(1 - cp.power(cp.clip(cp.abs((x[row, None] - x[None, :])/h[row]), 0.0, 1.0), 3.0), 3.0)\n",
    "            b = cp.array(cp.array([cp.sum(weights * y), cp.sum(weights * y * x)]))\n",
    "            A = cp.array(cp.array([cp.array([cp.sum(weights), cp.sum(weights * x)]), cp.array([cp.sum(weights * x), cp.sum(weights * x * x)])]))\n",
    "            beta = cp.linalg.solve(A, b)\n",
    "            yest[i] = beta[0] + beta[1] * x[i]\n",
    "\n",
    "        residuals = y - yest\n",
    "        s = cp.float32(cf.Series(cp.abs(residuals)).median())\n",
    "        delta = cp.clip(residuals / (6.0 * s), -1, 1)\n",
    "        delta = cp.power((1 - cp.power(delta, 2.0)), 2)\n",
    "    return yest"
   ]
  },
  {
   "cell_type": "code",
   "execution_count": 7,
   "metadata": {},
   "outputs": [],
   "source": [
    "def fill_seasonal(month, day, hour, seasonal_dict):\n",
    "    season = seasonal_dict[month]\n",
    "    return season[(season.Day_of_week == day) & (season.Hour == hour)].Seasonal.values[0]"
   ]
  },
  {
   "cell_type": "code",
   "execution_count": 8,
   "metadata": {},
   "outputs": [],
   "source": [
    "def IsSummer_func(x, out):\n",
    "    for i, a in enumerate(x):\n",
    "        if a >= 6 and a <= 8:\n",
    "            out[i] = 1\n",
    "        else:\n",
    "            out[i] = 0"
   ]
  },
  {
   "cell_type": "code",
   "execution_count": 9,
   "metadata": {},
   "outputs": [],
   "source": [
    "def heatint_season_func(x, y, out):\n",
    "    for i, (a, e) in enumerate(zip(x, y)):\n",
    "        if a < 13 and e == 1:\n",
    "            out[i] = 1\n",
    "        else:\n",
    "            out[i] = 0"
   ]
  },
  {
   "cell_type": "code",
   "execution_count": 10,
   "metadata": {},
   "outputs": [],
   "source": [
    "\"\"\"\n",
    "Computes MAPE\n",
    "\"\"\"\n",
    "def mean_absolute_percentage_error(y_true: cp.array, y_pred: cp.array) -> cp.float32:\n",
    "    return cp.mean(cp.abs((y_true - y_pred) / y_true)) * 100\n",
    "\n",
    "\"\"\"\n",
    "Computes SMAPE\n",
    "\"\"\"\n",
    "def symetric_mean_absolute_percentage_error(y_true: cp.array, y_pred: cp.array) -> cp.float32:\n",
    "    return cp.mean(cp.abs((y_pred - y_true) / ((cp.abs(y_true) + cp.abs(y_pred))/2.0))) * 100\n",
    "\n",
    "\"\"\"\n",
    "Computes MAE, MSE, MAPE, SMAPE, R2\n",
    "\"\"\"\n",
    "def compute_metrics(df: cf.DataFrame) -> cf.Series:\n",
    "    y_true, y_pred = df['y_true'].values, df['y_pred'].values\n",
    "    return compute_metrics_raw(y_true, y_pred)\n",
    "\n",
    "def compute_metrics_raw(y_true: cf.Series, y_pred: cf.Series) -> cf.Series:\n",
    "    mae, mse, mape, smape = mean_absolute_error(y_true=y_true, y_pred=y_pred), mean_squared_error(y_true=y_true, y_pred=y_pred), mean_absolute_percentage_error(y_true=y_true, y_pred=y_pred), symetric_mean_absolute_percentage_error(y_true=y_true, y_pred=y_pred)\n",
    "    return cf.Series(cp.array([mae, mse, mape, smape]), index=['MAE', 'MSE', 'MAPE', 'SMAPE'])\n",
    "#     return cf.DataFrame.from_records([{'MAE': mae, 'MSE': mse, 'MAPE': mape, 'SMAPE': smape}], index=[0])"
   ]
  },
  {
   "cell_type": "code",
   "execution_count": 14,
   "metadata": {},
   "outputs": [
    {
     "name": "stdout",
     "output_type": "stream",
     "text": [
      "Time before STL: 0.7480390593409538\n",
      "Time computing STL: 158.44393079727888\n",
      "Time second phase preprocess: 1.4179246500134468\n",
      "Full pipeline: 160.61122177541256\n",
      "Full pipeline (with data load): 160.65943113714457\n"
     ]
    }
   ],
   "source": [
    "n_diff=1\n",
    "start_data = perf_counter()\n",
    "df = cf.read_csv('data/ppnet_metar_v7.csv',  sep=';', index_col=0)\n",
    "# TODO: Odkomentovat pro repeat datasetu 10x\n",
    "# df = cf.concat([df]*10, ignore_index=True)\n",
    "start = perf_counter()\n",
    "start_full = perf_counter()\n",
    "\n",
    "df = df[df.Year < 2019]\n",
    "df['TestSet'] = 0\n",
    "df.loc[df.Year == 2018, 'TestSet'] = 1\n",
    "X, y = df.drop('Consumption', axis=1), df.Consumption\n",
    "\n",
    "y_diff = y.diff(n_diff).dropna()\n",
    "y_diff_index = y_diff.index\n",
    "X['Consumption_diff_1'] = y_diff\n",
    "lags = cp.array([24, 25, 35, 36, 37, 47, 48, 49, 71,72,73, 95, 96, 97, 119, 120, 121, 143,144,145, 168, 167, 169])\n",
    "lags_arr = cp.arange(n_diff, 24)\n",
    "lags_con = cp.concatenate((lags, lags_arr))\n",
    "lags = lags_con\n",
    "\n",
    "for x in lags:\n",
    "    X[f'Consumption_lag_{x}'] = y.shift(x)\n",
    "    X[f'Temperature_lag_{x}'] = X['Temperature'].shift(x)\n",
    "    X[f'Consumption_diff_1_lag_{x}'] = X['Consumption_diff_1'].shift(x)\n",
    "    X[f'Humidity_lag_{x}'] = X['Humidity'].shift(x)\n",
    "    X[f'Cena_lag_{x}'] = X['Cena_bfill'].shift(x)\n",
    "    X[f'Windspeed_lag_{x}'] = X['Wind_speed'].shift(x)\n",
    "    X[f'Pressure_lag_{x}'] = X['Pressure'].shift(x)\n",
    "\n",
    "X['Day_of_week_sin'] = cp.sin(2 * cp.pi * X['Day_of_week']/7.0)\n",
    "X['Day_of_week_cos'] = cp.cos(2 * cp.pi * X['Day_of_week']/7.0)\n",
    "X['Month_sin'] = cp.sin(2 * cp.pi * X['Month']/12.0)\n",
    "X['Month_cos'] = cp.cos(2 * cp.pi * X['Month']/12.0)\n",
    "X['Hour_sin'] = cp.sin(2 * cp.pi * X['Hour']/23.0)\n",
    "X['Hour_cos'] = cp.cos(2 * cp.pi * X['Hour']/23.0)\n",
    "X['Day_sin'] = cp.sin(2 * cp.pi * X['Day']/31.0)\n",
    "X['Day_cos'] = cp.cos(2 * cp.pi * X['Day']/31.0)\n",
    "\n",
    "cp.cuda.Stream.null.synchronize()\n",
    "end = perf_counter()\n",
    "print(f'Time before STL: {end - start}')\n",
    "start = perf_counter()\n",
    "\n",
    "x = cp.array([i for i in range(len(y_diff.values))])\n",
    "f = 0.01\n",
    "period = 24*7\n",
    "trend = lowess_cp_inline(x, y_diff.values, f, it=1, dl=0.01)\n",
    "detrended = y_diff.values - trend\n",
    "period_averages = cp.array([cp.mean(detrended[i::period]) for i in range(period)])\n",
    "period_averages -= cp.mean(period_averages)\n",
    "seasonal = cp.tile(period_averages, len(y_diff.values) // period + 1)[:len(y_diff.values)]\n",
    "resid = detrended - seasonal\n",
    "residual_trend = resid + trend\n",
    "\n",
    "X['Seasonal'] = cp.concatenate([cp.array([cp.nan]*n_diff), seasonal])\n",
    "X['Residual'] = cp.concatenate([cp.array([cp.nan]*n_diff), residual_trend])\n",
    "X['Trend'] = cp.concatenate([cp.array([cp.nan]*n_diff), trend])\n",
    "\n",
    "cp.cuda.Stream.null.synchronize()\n",
    "end = perf_counter()\n",
    "print(f'Time computing STL: {end - start}')\n",
    "start = perf_counter()\n",
    "\n",
    "for x in lags:\n",
    "    X[f'Seasonal_lag_{x}'] = X['Seasonal'].shift(x)\n",
    "    X[f'Residual_lag_{x}'] = X['Residual'].shift(x)\n",
    "    X[f'Residual_lag_inverse_{x}'] = X['Residual'].shift(x)*-1\n",
    "\n",
    "X['IsSummer'] = 0\n",
    "IsSummer_final = X.apply_rows(IsSummer_func, incols={'Month':'x'}, outcols={'out': cp.int}, kwargs={}).out\n",
    "X['IsMiddleOfTheDay'] = 0\n",
    "X.loc[X.Hour.applymap(lambda x: x >= 13 and x <= 15), 'IsMiddleOfTheDay'] = 1 \n",
    "X['IsHeatingSeason'] = 1\n",
    "X.loc[X.Month.applymap(lambda x: x >= 6 and x <= 8), 'IsHeatingSeason'] = 0\n",
    "heat_final = X.apply_rows(heatint_season_func, incols={'Temperature':'x', 'IsHeatingSeason':'y'}, outcols={'out': cp.int}, kwargs={}).out\n",
    "X['IsHeatingSeason'] = heat_final\n",
    "X['IsWeekend'] = 0\n",
    "X.loc[X.Day_of_week.applymap(lambda x: x >= 6 and x <= 7), 'IsWeekend'] = 1\n",
    "X['IsStartOfGasTradeDay'] = 0\n",
    "X.loc[X.Hour == 6, 'IsStartOfGasTradeDay'] = 1\n",
    "\n",
    "y = X.Residual\n",
    "X_train, X_test, y_train, y_test = X[X.TestSet == 0], X[X.TestSet == 1], y[X.TestSet == 0], y[X.TestSet == 1]\n",
    "\n",
    "arr_drop_columns = cf.Series(['Cena',\n",
    " 'Cena_bfill',\n",
    " 'Clouds_high_m',\n",
    " 'Clouds_high_text',\n",
    " 'Clouds_low_m',\n",
    " 'Clouds_low_text',\n",
    " 'Clouds_medium_m',\n",
    " 'Clouds_medium_text',\n",
    " 'Consumption_diff_1',\n",
    " 'Datetime.1',\n",
    " 'Dewpoint',\n",
    " 'Humidity',\n",
    " 'IsMissing',\n",
    " 'Mnozstvi',\n",
    " 'Mnozstvi_bfill',\n",
    " 'Phenomena',\n",
    " 'Pressure',\n",
    " 'Pressure2',\n",
    " 'PreviousTemp_lag24',\n",
    " 'PreviousTemp_lag48',\n",
    " 'Recent_phenomena',\n",
    " 'Residual',\n",
    " 'Temperature',\n",
    " 'TestSet',\n",
    " 'Trend',\n",
    " 'Visibility',\n",
    " 'Wind_direction',\n",
    " 'Wind_speed',\n",
    " 'Year'])\n",
    "\n",
    "X_train_selected_features = X_train.drop(arr_drop_columns, axis=1)\n",
    "X_test_selected_features = X_test.drop(arr_drop_columns, axis=1)\n",
    "X_train_selected_features_nona = X_train_selected_features.dropna()\n",
    "X_test_selected_features_nona = X_test_selected_features.dropna()\n",
    "y_train_no_na = y_train.dropna()\n",
    "y_test_no_na = y_test.dropna()\n",
    "y_train_no_na = y_train_no_na[y_train_no_na.index.isin(X_train_selected_features_nona.index)]\n",
    "X_test_selected_features_nona = X_test_selected_features_nona[X_test_selected_features_nona.index.isin(y_test_no_na.index)]\n",
    "\n",
    "cp.cuda.Stream.null.synchronize()\n",
    "end = perf_counter()\n",
    "print(f'Time second phase preprocess: {end - start}')\n",
    "\n",
    "cp.cuda.Stream.null.synchronize()\n",
    "end_full = perf_counter()\n",
    "print(f'Full pipeline: {end_full - start_full}')\n",
    "print(f'Full pipeline (with data load): {end_full - start_data}')"
   ]
  },
  {
   "cell_type": "code",
   "execution_count": 15,
   "metadata": {},
   "outputs": [
    {
     "name": "stderr",
     "output_type": "stream",
     "text": [
      "/home/fei/svo0175/miniconda3/lib/python3.7/site-packages/ipykernel_launcher.py:6: UserWarning: Setting the random seed does not fully guarantee the exact same results at this time.\n",
      "  \n"
     ]
    },
    {
     "name": "stdout",
     "output_type": "stream",
     "text": [
      "Time for ML phase: 5.902379095554352\n"
     ]
    }
   ],
   "source": [
    "start = perf_counter()\n",
    "X_train_selected_features_nona = X_train_selected_features_nona.astype(cp.float32)\n",
    "y_train_no_na = y_train_no_na.astype(cp.float32)\n",
    "X_test_selected_features_nona = X_test_selected_features_nona.astype(cp.float32)\n",
    "y_test_no_na = y_test_no_na.astype(cp.float32)\n",
    "alg = RandomForestRegressor(n_estimators=5, accuracy_metric='mse', max_features=1.0, seed=14)\n",
    "alg.fit(X_train_selected_features_nona, y_train_no_na)\n",
    "y_pred = alg.predict(X_test_selected_features_nona)\n",
    "ps_y_pred = y_pred\n",
    "ps_y_pred.index = y_test_no_na.index\n",
    "y_pred_tmp = ps_y_pred + X[X.TestSet == 1].Seasonal\n",
    "df_tmp = (df.Consumption.shift(n_diff)[df.TestSet == 1] + y_pred_tmp)\n",
    "orig_data = df.loc[df.TestSet == 1, 'Consumption']\n",
    "df_res_hourly = cf.DataFrame({'y_true': orig_data, 'y_pred': df_tmp})\n",
    "cp.cuda.Stream.null.synchronize()\n",
    "end = perf_counter()\n",
    "print(f'Time for ML phase: {end - start}')"
   ]
  },
  {
   "cell_type": "code",
   "execution_count": 16,
   "metadata": {},
   "outputs": [
    {
     "data": {
      "text/plain": [
       "MAE      2.558485e+03\n",
       "MSE      1.706865e+07\n",
       "MAPE     3.398827e+00\n",
       "SMAPE    3.310298e+00\n",
       "dtype: float64"
      ]
     },
     "execution_count": 16,
     "metadata": {},
     "output_type": "execute_result"
    }
   ],
   "source": [
    "compute_metrics(df_res_hourly)"
   ]
  },
  {
   "cell_type": "code",
   "execution_count": null,
   "metadata": {},
   "outputs": [],
   "source": []
  },
  {
   "cell_type": "code",
   "execution_count": null,
   "metadata": {},
   "outputs": [],
   "source": []
  },
  {
   "cell_type": "code",
   "execution_count": null,
   "metadata": {},
   "outputs": [],
   "source": []
  },
  {
   "cell_type": "code",
   "execution_count": 11,
   "metadata": {},
   "outputs": [],
   "source": [
    "trend = lowess_cp_inline(x, y_diff.values, f, it=1, dl=0.01)"
   ]
  },
  {
   "cell_type": "code",
   "execution_count": 12,
   "metadata": {},
   "outputs": [
    {
     "data": {
      "text/plain": [
       "array([-4252.82214212, -4200.76424686, -4148.76340327, -4096.82015725,\n",
       "       -4044.93503335, -3993.10853604, -3941.34116593, -3889.63344665,\n",
       "       -3837.98595566, -3786.39934209])"
      ]
     },
     "execution_count": 12,
     "metadata": {},
     "output_type": "execute_result"
    }
   ],
   "source": [
    "trend[:10]"
   ]
  },
  {
   "cell_type": "code",
   "execution_count": 13,
   "metadata": {},
   "outputs": [],
   "source": [
    "detrended = y_diff.values - trend"
   ]
  },
  {
   "cell_type": "code",
   "execution_count": 14,
   "metadata": {},
   "outputs": [],
   "source": [
    "period = 24*7"
   ]
  },
  {
   "cell_type": "code",
   "execution_count": 18,
   "metadata": {},
   "outputs": [],
   "source": [
    "period_averages = cp.array([cp.mean(detrended[i::period]) for i in range(period)])"
   ]
  },
  {
   "cell_type": "code",
   "execution_count": 19,
   "metadata": {},
   "outputs": [],
   "source": [
    "period_averages -= cp.mean(period_averages)"
   ]
  },
  {
   "cell_type": "code",
   "execution_count": 23,
   "metadata": {},
   "outputs": [],
   "source": [
    "seasonal = cp.tile(period_averages, len(y_diff.values) // period + 1)[:len(y_diff.values)]"
   ]
  },
  {
   "cell_type": "code",
   "execution_count": 25,
   "metadata": {},
   "outputs": [],
   "source": [
    "resid = detrended - seasonal"
   ]
  },
  {
   "cell_type": "code",
   "execution_count": 33,
   "metadata": {},
   "outputs": [
    {
     "data": {
      "text/plain": [
       "[<matplotlib.lines.Line2D at 0x7f7a414a6dd0>]"
      ]
     },
     "execution_count": 33,
     "metadata": {},
     "output_type": "execute_result"
    },
    {
     "data": {
      "image/png": "[encoded data removed]",
      "text/plain": [
       "<Figure size 432x288 with 1 Axes>"
      ]
     },
     "metadata": {
      "needs_background": "light"
     },
     "output_type": "display_data"
    }
   ],
   "source": [
    "plt.plot(cp.asnumpy(x), cp.asnumpy(trend))"
   ]
  },
  {
   "cell_type": "code",
   "execution_count": 34,
   "metadata": {},
   "outputs": [
    {
     "data": {
      "text/plain": [
       "[<matplotlib.lines.Line2D at 0x7f7a41471fd0>]"
      ]
     },
     "execution_count": 34,
     "metadata": {},
     "output_type": "execute_result"
    },
    {
     "data": {
      "image/png": "[encoded data removed]",
      "text/plain": [
       "<Figure size 432x288 with 1 Axes>"
      ]
     },
     "metadata": {
      "needs_background": "light"
     },
     "output_type": "display_data"
    }
   ],
   "source": [
    "plt.plot(cp.asnumpy(x), cp.asnumpy(seasonal))"
   ]
  },
  {
   "cell_type": "code",
   "execution_count": 39,
   "metadata": {},
   "outputs": [
    {
     "data": {
      "text/plain": [
       "[<matplotlib.lines.Line2D at 0x7f7a41262e10>]"
      ]
     },
     "execution_count": 39,
     "metadata": {},
     "output_type": "execute_result"
    },
    {
     "data": {
      "image/png": "[encoded data removed]",
      "text/plain": [
       "<Figure size 432x288 with 1 Axes>"
      ]
     },
     "metadata": {
      "needs_background": "light"
     },
     "output_type": "display_data"
    }
   ],
   "source": [
    "plt.plot(cp.asnumpy(x[:168]), cp.asnumpy(seasonal[:168]))"
   ]
  },
  {
   "cell_type": "code",
   "execution_count": 35,
   "metadata": {},
   "outputs": [
    {
     "data": {
      "text/plain": [
       "[<matplotlib.lines.Line2D at 0x7f7a413bc790>]"
      ]
     },
     "execution_count": 35,
     "metadata": {},
     "output_type": "execute_result"
    },
    {
     "data": {
      "image/png": "[encoded data removed]",
      "text/plain": [
       "<Figure size 432x288 with 1 Axes>"
      ]
     },
     "metadata": {
      "needs_background": "light"
     },
     "output_type": "display_data"
    }
   ],
   "source": [
    "plt.plot(cp.asnumpy(x), cp.asnumpy(resid))"
   ]
  },
  {
   "cell_type": "code",
   "execution_count": 37,
   "metadata": {},
   "outputs": [
    {
     "data": {
      "text/plain": [
       "[<matplotlib.lines.Line2D at 0x7f7a4131ea90>]"
      ]
     },
     "execution_count": 37,
     "metadata": {},
     "output_type": "execute_result"
    },
    {
     "data": {
      "image/png": "[encoded data removed]",
      "text/plain": [
       "<Figure size 432x288 with 1 Axes>"
      ]
     },
     "metadata": {
      "needs_background": "light"
     },
     "output_type": "display_data"
    }
   ],
   "source": [
    "plt.plot(cp.asnumpy(period_averages))"
   ]
  },
  {
   "cell_type": "code",
   "execution_count": null,
   "metadata": {},
   "outputs": [],
   "source": []
  },
  {
   "cell_type": "code",
   "execution_count": 6,
   "metadata": {},
   "outputs": [
    {
     "data": {
      "text/plain": [
       "0        -6108.0\n",
       "1       -11776.0\n",
       "2       -14400.0\n",
       "3       -14668.0\n",
       "4        -7944.0\n",
       "          ...   \n",
       "52555    -8593.0\n",
       "52556   -11178.0\n",
       "52557   -12489.0\n",
       "52558   -15179.0\n",
       "52559   -10751.0\n",
       "Length: 52560, dtype: float64"
      ]
     },
     "execution_count": 6,
     "metadata": {},
     "output_type": "execute_result"
    }
   ],
   "source": [
    "pd.Series(cp.asnumpy(y_diff.values))"
   ]
  },
  {
   "cell_type": "code",
   "execution_count": 10,
   "metadata": {},
   "outputs": [
    {
     "name": "stdout",
     "output_type": "stream",
     "text": [
      "0.0512222945690155\n"
     ]
    }
   ],
   "source": [
    "start_rstl = perf_counter()\n",
    "y_diff_np = cp.asnumpy(y_diff.values)[:100]\n",
    "stl_decomp = rstl.STL(y_diff_np, freq=7, robust=False, s_window='periodic')\n",
    "end_rstl = perf_counter()\n",
    "print(end_rstl - start_rstl)"
   ]
  },
  {
   "cell_type": "code",
   "execution_count": 11,
   "metadata": {},
   "outputs": [
    {
     "data": {
      "text/plain": [
       "array([-17459.60046692, -13469.53055977,  -9479.46065262,  -5250.27819633,\n",
       "        -1021.09574004,   4135.6341368 ,   9292.36401363,  12715.00101151,\n",
       "        16137.63800939,  15219.53161184,  14301.42521428,  10821.78362204,\n",
       "         7342.1420298 ,   4424.30569335,   1506.4693569 ,    820.53108988,\n",
       "          134.59282285,    267.5818156 ,    400.57080835,    796.92623854,\n",
       "         1193.28166872,   1596.6975249 ,   2000.11338108,   2887.2339667 ,\n",
       "         3774.35455232,   4795.46713253,   5816.57971275,   6190.75392982,\n",
       "         6564.9281469 ,   6135.95812943,   5706.98811195,   5528.53531329,\n",
       "         5350.08251462,   6823.7573431 ,   8297.43217158,   9726.04183233,\n",
       "        11154.65149308,  10563.03958227,   9971.42767147,   6534.020426  ,\n",
       "         3096.61318054,    146.64633623,  -2803.32050808,  -4615.96443356,\n",
       "        -6428.60835903,  -7601.4750805 ,  -8774.34180196, -10420.47206324,\n",
       "       -12066.60232453, -14258.90838406, -16451.21444359, -18094.39510838,\n",
       "       -19737.57577317, -21418.6334005 , -23099.69102782, -25478.65194227,\n",
       "       -27857.61285671, -30794.86340037, -33732.11394403, -34876.21989657,\n",
       "       -36020.32584911, -34869.6298355 , -33718.9338219 , -31425.64894084,\n",
       "       -29132.36405978, -28371.68208224, -27611.0001047 , -27575.35141659,\n",
       "       -27539.70272847, -26592.51478816, -25645.32684785, -23746.47950105,\n",
       "       -21847.63215425, -22122.27580562, -22396.91945699, -26517.20592724,\n",
       "       -30637.4923975 , -33296.12585433, -35954.75931116, -33192.41189277,\n",
       "       -30430.06447437, -23797.37900176, -17164.69352915, -12975.94109395,\n",
       "        -8787.18865874,  -7803.67063423,  -6820.15260971,  -6664.45795197,\n",
       "        -6508.76329423,  -4132.82028988,  -1756.87728553,   1720.5077476 ,\n",
       "         5197.89278072,   7438.30580119,   9678.71882166,   9416.500901  ,\n",
       "         9154.28298034,   8560.182146  ,   7966.08131166,   7183.80944351])"
      ]
     },
     "execution_count": 11,
     "metadata": {},
     "output_type": "execute_result"
    }
   ],
   "source": [
    "stl_decomp.trend"
   ]
  },
  {
   "cell_type": "code",
   "execution_count": 36,
   "metadata": {},
   "outputs": [],
   "source": [
    "trend, seasonal, residual, weights = cp.array(stl_decomp.trend), cp.array(stl_decomp.seasonal), cp.array(stl_decomp.remainder), cp.array(stl_decomp.weights)"
   ]
  },
  {
   "cell_type": "code",
   "execution_count": 19,
   "metadata": {},
   "outputs": [],
   "source": [
    "residual_trend = residual + trend"
   ]
  },
  {
   "cell_type": "code",
   "execution_count": 20,
   "metadata": {},
   "outputs": [
    {
     "data": {
      "text/plain": [
       "(52584, 203)"
      ]
     },
     "execution_count": 20,
     "metadata": {},
     "output_type": "execute_result"
    }
   ],
   "source": [
    "X.shape"
   ]
  },
  {
   "cell_type": "code",
   "execution_count": 21,
   "metadata": {},
   "outputs": [
    {
     "data": {
      "text/plain": [
       "(52584,)"
      ]
     },
     "execution_count": 21,
     "metadata": {},
     "output_type": "execute_result"
    }
   ],
   "source": [
    "y.shape"
   ]
  },
  {
   "cell_type": "code",
   "execution_count": 30,
   "metadata": {},
   "outputs": [
    {
     "name": "stdout",
     "output_type": "stream",
     "text": [
      "Difference RSTL: 237.84162295609713\n"
     ]
    }
   ],
   "source": [
    "X[f'Seasonal'] = cf.Series((cp.concatenate([cp.array([cp.nan]*n_diff), seasonal])), index=X.index)\n",
    "X[f'Residual'] = cf.Series((cp.concatenate([cp.array([cp.nan]*n_diff), residual_trend])), index=X.index)\n",
    "X[f'Trend'] = cf.Series((cp.concatenate([cp.array([cp.nan]*n_diff),trend])), index=X.index)"
   ]
  },
  {
   "cell_type": "code",
   "execution_count": null,
   "metadata": {},
   "outputs": [],
   "source": []
  }
 ],
 "metadata": {
  "kernelspec": {
   "display_name": "Python 3",
   "language": "python",
   "name": "python3"
  },
  "language_info": {
   "codemirror_mode": {
    "name": "ipython",
    "version": 3
   },
   "file_extension": ".py",
   "mimetype": "text/x-python",
   "name": "python",
   "nbconvert_exporter": "python",
   "pygments_lexer": "ipython3",
   "version": "3.7.7"
  }
 },
 "nbformat": 4,
 "nbformat_minor": 4
}
