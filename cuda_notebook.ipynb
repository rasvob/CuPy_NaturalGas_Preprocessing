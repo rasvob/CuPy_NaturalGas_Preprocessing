{
 "cells": [
  {
   "cell_type": "code",
   "execution_count": 1,
   "metadata": {},
   "outputs": [
    {
     "name": "stderr",
     "output_type": "stream",
     "text": [
      "/home/fei/svo0175/miniconda3/lib/python3.7/site-packages/treelite/gallery/__init__.py:7: FutureWarning: treelite.gallery.sklearn has been moved to treelite.sklearn. treelite.gallery.sklearn will be removed in version 1.1.\n",
      "  FutureWarning)\n",
      "/home/fei/svo0175/miniconda3/lib/python3.7/site-packages/treelite/gallery/sklearn/__init__.py:9: FutureWarning: treelite.gallery.sklearn has been moved to treelite.sklearn. treelite.gallery.sklearn will be removed in version 1.1.\n",
      "  FutureWarning)\n"
     ]
    }
   ],
   "source": [
    "import cupy as cp\n",
    "import numpy as np\n",
    "import pandas as pd\n",
    "import time\n",
    "import cudf as cf\n",
    "import cuml as ml\n",
    "\n",
    "from sklearn.model_selection import KFold, train_test_split, StratifiedKFold\n",
    "from sklearn.ensemble import RandomForestRegressor, AdaBoostRegressor, ExtraTreesRegressor\n",
    "from sklearn.metrics import accuracy_score, mean_absolute_error, mean_squared_error\n",
    "from sklearn.linear_model import Ridge, Lasso, ElasticNet\n",
    "from sklearn.preprocessing import StandardScaler, MinMaxScaler, RobustScaler\n",
    "from evaluation_metrics import compute_metrics, compute_metrics_csv, mean_absolute_percentage_error, symetric_mean_absolute_percentage_error\n",
    "\n",
    "from statsmodels.tsa.stattools import acf, pacf, ccf, ccovf\n",
    "from statsmodels.tsa.seasonal import STL\n",
    "from statsmodels.graphics.tsaplots import plot_acf, plot_pacf \n",
    "from statsmodels.tsa.stattools import adfuller, kpss\n",
    "from scipy.stats import boxcox, yeojohnson\n",
    "from scipy.special import inv_boxcox\n",
    "import rstl\n",
    "\n",
    "from time import perf_counter"
   ]
  },
  {
   "cell_type": "code",
   "execution_count": 2,
   "metadata": {},
   "outputs": [],
   "source": [
    "def cuda_test_batch():\n",
    "    print(cp.__version__)\n",
    "    print(cf.__version__)\n",
    "    print(ml.__version__)\n",
    "\n",
    "    s = time.time()\n",
    "    x_cpu = np.ones((1000,1000,1000))\n",
    "    e = time.time()\n",
    "    print(e - s)\n",
    "\n",
    "    s = time.time()\n",
    "    x_gpu = cp.ones((1000,1000,1000))\n",
    "    cp.cuda.Stream.null.synchronize()\n",
    "    e = time.time()\n",
    "    print(e - s)\n",
    "    \n",
    "    ### Numpy and CPU\n",
    "    s = time.time()\n",
    "    x_cpu *= 5\n",
    "    x_cpu *= x_cpu\n",
    "    x_cpu += x_cpu\n",
    "    e = time.time()\n",
    "    print(e - s)\n",
    "\n",
    "    ### CuPy and GPU\n",
    "    s = time.time()\n",
    "    x_gpu *= 5\n",
    "    x_gpu *= x_gpu\n",
    "    x_gpu += x_gpu\n",
    "    cp.cuda.Stream.null.synchronize()\n",
    "    e = time.time()\n",
    "    print(e - s)\n"
   ]
  },
  {
   "cell_type": "code",
   "execution_count": 3,
   "metadata": {},
   "outputs": [
    {
     "name": "stdout",
     "output_type": "stream",
     "text": [
      "7.6.0\n",
      "0.15.0a+1827.g585d94c21\n",
      "0.15.0a+772.gade1b044c\n",
      "2.1061341762542725\n",
      "2.0452466011047363\n",
      "2.7399961948394775\n",
      "0.2405083179473877\n"
     ]
    }
   ],
   "source": [
    "cuda_test_batch()"
   ]
  },
  {
   "cell_type": "code",
   "execution_count": 4,
   "metadata": {},
   "outputs": [],
   "source": [
    "def fill_seasonal(month, day, hour, seasonal_dict):\n",
    "    season = seasonal_dict[month]\n",
    "    return season[(season.Day_of_week == day) & (season.Hour == hour)].Seasonal.values[0]"
   ]
  },
  {
   "cell_type": "code",
   "execution_count": 34,
   "metadata": {},
   "outputs": [],
   "source": [
    "n_diff=24\n",
    "df = cf.read_csv('data/ppnet_metar_v7.csv',  sep=';', index_col=0)\n",
    "# TODO: Odkomentovat pro repeat datasetu 10x\n",
    "# df = cf.concat([df]*10, ignore_index=True)\n",
    "#     start = perf_counter()\n",
    "df = df[df.Year < 2019]\n",
    "df['TestSet'] = 0\n",
    "df.loc[df.Year == 2018, 'TestSet'] = 1\n",
    "X, y = df.drop('Consumption', axis=1), df.Consumption\n",
    "\n",
    "y_diff = y.diff(n_diff).dropna()\n",
    "y_diff_index = y_diff.index\n",
    "X['Consumption_diff_1'] = y_diff\n",
    "lags = cp.array([24, 25, 35, 36, 37, 47, 48, 49, 71,72,73, 95, 96, 97, 119, 120, 121, 143,144,145, 168, 167, 169])\n",
    "lags_arr = cp.arange(n_diff, 24)\n",
    "lags_con = cp.concatenate((lags, lags_arr))\n",
    "\n",
    "for x in lags:\n",
    "    X[f'Consumption_lag_{x}'] = y.shift(x)\n",
    "    X[f'Temperature_lag_{x}'] = X['Temperature'].shift(x)\n",
    "    X[f'Consumption_diff_1_lag_{x}'] = X['Consumption_diff_1'].shift(x)\n",
    "    X[f'Humidity_lag_{x}'] = X['Humidity'].shift(x)\n",
    "    X[f'Cena_lag_{x}'] = X['Cena_bfill'].shift(x)\n",
    "    X[f'Windspeed_lag_{x}'] = X['Wind_speed'].shift(x)\n",
    "    X[f'Pressure_lag_{x}'] = X['Pressure'].shift(x)\n",
    "\n",
    "X['Day_of_week_sin'] = cp.sin(2 * cp.pi * X['Day_of_week']/7.0)\n",
    "X['Day_of_week_cos'] = cp.cos(2 * cp.pi * X['Day_of_week']/7.0)\n",
    "X['Month_sin'] = cp.sin(2 * cp.pi * X['Month']/12.0)\n",
    "X['Month_cos'] = cp.cos(2 * cp.pi * X['Month']/12.0)\n",
    "X['Hour_sin'] = cp.sin(2 * cp.pi * X['Hour']/23.0)\n",
    "X['Hour_cos'] = cp.cos(2 * cp.pi * X['Hour']/23.0)\n",
    "X['Day_sin'] = cp.sin(2 * cp.pi * X['Day']/31.0)\n",
    "X['Day_cos'] = cp.cos(2 * cp.pi * X['Day']/31.0)\n",
    "\n",
    "\n",
    "\n",
    "# seasonal_dict = {k:X[(X.TestSet == 0) & (X.Month == k)].groupby(['Day_of_week', 'Hour']).Seasonal.mean().reset_index() for k in  X.Month.value_counts().index.values}\n",
    "# print(seasonal_dict)\n",
    "\n",
    "seasonal_cparray = cp.ndarray((12, 7, 23))\n",
    "\n",
    "# cp.cuda.Stream.null.synchronize()\n",
    "# end = perf_counter()\n",
    "# print(f'Difference: {end - start}')"
   ]
  },
  {
   "cell_type": "code",
   "execution_count": 35,
   "metadata": {},
   "outputs": [
    {
     "name": "stdout",
     "output_type": "stream",
     "text": [
      "1.7162403389811516\n"
     ]
    }
   ],
   "source": [
    "start_rstl = perf_counter()\n",
    "y_diff_np = cp.asnumpy(y_diff.values)\n",
    "stl_decomp = rstl.STL(y_diff_np, freq=24*7, robust=False, s_window='periodic')\n",
    "end_rstl = perf_counter()\n",
    "print(end_rstl - start_rstl)"
   ]
  },
  {
   "cell_type": "code",
   "execution_count": 36,
   "metadata": {},
   "outputs": [],
   "source": [
    "trend, seasonal, residual, weights = cp.array(stl_decomp.trend), cp.array(stl_decomp.seasonal), cp.array(stl_decomp.remainder), cp.array(stl_decomp.weights)"
   ]
  },
  {
   "cell_type": "code",
   "execution_count": 19,
   "metadata": {},
   "outputs": [],
   "source": [
    "residual_trend = residual + trend"
   ]
  },
  {
   "cell_type": "code",
   "execution_count": 20,
   "metadata": {},
   "outputs": [
    {
     "data": {
      "text/plain": [
       "(52584, 203)"
      ]
     },
     "execution_count": 20,
     "metadata": {},
     "output_type": "execute_result"
    }
   ],
   "source": [
    "X.shape"
   ]
  },
  {
   "cell_type": "code",
   "execution_count": 21,
   "metadata": {},
   "outputs": [
    {
     "data": {
      "text/plain": [
       "(52584,)"
      ]
     },
     "execution_count": 21,
     "metadata": {},
     "output_type": "execute_result"
    }
   ],
   "source": [
    "y.shape"
   ]
  },
  {
   "cell_type": "code",
   "execution_count": 30,
   "metadata": {},
   "outputs": [
    {
     "name": "stdout",
     "output_type": "stream",
     "text": [
      "Difference RSTL: 237.84162295609713\n"
     ]
    }
   ],
   "source": [
    "X[f'Seasonal'] = cf.Series((cp.concatenate([cp.array([cp.nan]*n_diff), seasonal])), index=X.index)\n",
    "X[f'Residual'] = cf.Series((cp.concatenate([cp.array([cp.nan]*n_diff), residual_trend])), index=X.index)\n",
    "X[f'Trend'] = cf.Series((cp.concatenate([cp.array([cp.nan]*n_diff),trend])), index=X.index)"
   ]
  },
  {
   "cell_type": "code",
   "execution_count": null,
   "metadata": {},
   "outputs": [],
   "source": []
  }
 ],
 "metadata": {
  "kernelspec": {
   "display_name": "Python 3",
   "language": "python",
   "name": "python3"
  },
  "language_info": {
   "codemirror_mode": {
    "name": "ipython",
    "version": 3
   },
   "file_extension": ".py",
   "mimetype": "text/x-python",
   "name": "python",
   "nbconvert_exporter": "python",
   "pygments_lexer": "ipython3",
   "version": "3.7.7"
  }
 },
 "nbformat": 4,
 "nbformat_minor": 4
}
