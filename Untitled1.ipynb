{
 "cells": [
  {
   "cell_type": "code",
   "execution_count": 2,
   "metadata": {},
   "outputs": [],
   "source": [
    "import pandas as pd\n",
    "import numpy as np\n",
    "import matplotlib.pyplot as plt\n",
    "import seaborn as sns"
   ]
  },
  {
   "cell_type": "code",
   "execution_count": 3,
   "metadata": {},
   "outputs": [
    {
     "data": {
      "text/html": [
       "<div>\n",
       "<style scoped>\n",
       "    .dataframe tbody tr th:only-of-type {\n",
       "        vertical-align: middle;\n",
       "    }\n",
       "\n",
       "    .dataframe tbody tr th {\n",
       "        vertical-align: top;\n",
       "    }\n",
       "\n",
       "    .dataframe thead th {\n",
       "        text-align: right;\n",
       "    }\n",
       "</style>\n",
       "<table border=\"1\" class=\"dataframe\">\n",
       "  <thead>\n",
       "    <tr style=\"text-align: right;\">\n",
       "      <th></th>\n",
       "      <th>Iter</th>\n",
       "      <th>Before STL</th>\n",
       "      <th>STL</th>\n",
       "      <th>Second preproccess</th>\n",
       "      <th>ML phase</th>\n",
       "      <th>Full pipeline</th>\n",
       "      <th>Full pipeline with data load</th>\n",
       "    </tr>\n",
       "  </thead>\n",
       "  <tbody>\n",
       "    <tr>\n",
       "      <th>0</th>\n",
       "      <td>1</td>\n",
       "      <td>19.78</td>\n",
       "      <td>261.98</td>\n",
       "      <td>20.27</td>\n",
       "      <td>106.75</td>\n",
       "      <td>408.78</td>\n",
       "      <td>409.02</td>\n",
       "    </tr>\n",
       "    <tr>\n",
       "      <th>1</th>\n",
       "      <td>2</td>\n",
       "      <td>17.85</td>\n",
       "      <td>254.51</td>\n",
       "      <td>20.32</td>\n",
       "      <td>104.63</td>\n",
       "      <td>397.31</td>\n",
       "      <td>397.49</td>\n",
       "    </tr>\n",
       "    <tr>\n",
       "      <th>2</th>\n",
       "      <td>3</td>\n",
       "      <td>18.10</td>\n",
       "      <td>259.61</td>\n",
       "      <td>20.98</td>\n",
       "      <td>111.36</td>\n",
       "      <td>410.04</td>\n",
       "      <td>410.24</td>\n",
       "    </tr>\n",
       "    <tr>\n",
       "      <th>3</th>\n",
       "      <td>4</td>\n",
       "      <td>18.32</td>\n",
       "      <td>262.03</td>\n",
       "      <td>20.38</td>\n",
       "      <td>105.85</td>\n",
       "      <td>406.58</td>\n",
       "      <td>406.77</td>\n",
       "    </tr>\n",
       "    <tr>\n",
       "      <th>4</th>\n",
       "      <td>5</td>\n",
       "      <td>18.50</td>\n",
       "      <td>271.73</td>\n",
       "      <td>20.65</td>\n",
       "      <td>105.76</td>\n",
       "      <td>416.65</td>\n",
       "      <td>416.84</td>\n",
       "    </tr>\n",
       "  </tbody>\n",
       "</table>\n",
       "</div>"
      ],
      "text/plain": [
       "   Iter  Before STL     STL  Second preproccess  ML phase  Full pipeline  \\\n",
       "0     1       19.78  261.98               20.27    106.75         408.78   \n",
       "1     2       17.85  254.51               20.32    104.63         397.31   \n",
       "2     3       18.10  259.61               20.98    111.36         410.04   \n",
       "3     4       18.32  262.03               20.38    105.85         406.58   \n",
       "4     5       18.50  271.73               20.65    105.76         416.65   \n",
       "\n",
       "   Full pipeline with data load  \n",
       "0                        409.02  \n",
       "1                        397.49  \n",
       "2                        410.24  \n",
       "3                        406.77  \n",
       "4                        416.84  "
      ]
     },
     "execution_count": 3,
     "metadata": {},
     "output_type": "execute_result"
    }
   ],
   "source": [
    "df_cpu = pd.read_csv('cpu.csv', sep=';', decimal=\",\")\n",
    "df_cpu.head()"
   ]
  },
  {
   "cell_type": "code",
   "execution_count": 4,
   "metadata": {},
   "outputs": [
    {
     "data": {
      "text/html": [
       "<div>\n",
       "<style scoped>\n",
       "    .dataframe tbody tr th:only-of-type {\n",
       "        vertical-align: middle;\n",
       "    }\n",
       "\n",
       "    .dataframe tbody tr th {\n",
       "        vertical-align: top;\n",
       "    }\n",
       "\n",
       "    .dataframe thead th {\n",
       "        text-align: right;\n",
       "    }\n",
       "</style>\n",
       "<table border=\"1\" class=\"dataframe\">\n",
       "  <thead>\n",
       "    <tr style=\"text-align: right;\">\n",
       "      <th></th>\n",
       "      <th>Iter</th>\n",
       "      <th>Before STL</th>\n",
       "      <th>STL</th>\n",
       "      <th>Second preproccess</th>\n",
       "      <th>ML phase</th>\n",
       "      <th>Full pipeline</th>\n",
       "      <th>Full pipeline with data load</th>\n",
       "    </tr>\n",
       "  </thead>\n",
       "  <tbody>\n",
       "    <tr>\n",
       "      <th>0</th>\n",
       "      <td>1</td>\n",
       "      <td>0.85</td>\n",
       "      <td>174.87</td>\n",
       "      <td>8.73</td>\n",
       "      <td>5.78</td>\n",
       "      <td>190.22</td>\n",
       "      <td>190.26</td>\n",
       "    </tr>\n",
       "    <tr>\n",
       "      <th>1</th>\n",
       "      <td>2</td>\n",
       "      <td>0.81</td>\n",
       "      <td>190.41</td>\n",
       "      <td>9.01</td>\n",
       "      <td>5.76</td>\n",
       "      <td>205.98</td>\n",
       "      <td>206.01</td>\n",
       "    </tr>\n",
       "    <tr>\n",
       "      <th>2</th>\n",
       "      <td>3</td>\n",
       "      <td>0.79</td>\n",
       "      <td>191.06</td>\n",
       "      <td>9.25</td>\n",
       "      <td>5.80</td>\n",
       "      <td>206.90</td>\n",
       "      <td>206.93</td>\n",
       "    </tr>\n",
       "    <tr>\n",
       "      <th>3</th>\n",
       "      <td>4</td>\n",
       "      <td>0.83</td>\n",
       "      <td>183.50</td>\n",
       "      <td>8.15</td>\n",
       "      <td>5.68</td>\n",
       "      <td>198.16</td>\n",
       "      <td>198.20</td>\n",
       "    </tr>\n",
       "    <tr>\n",
       "      <th>4</th>\n",
       "      <td>5</td>\n",
       "      <td>0.79</td>\n",
       "      <td>168.58</td>\n",
       "      <td>1.41</td>\n",
       "      <td>5.82</td>\n",
       "      <td>176.60</td>\n",
       "      <td>176.63</td>\n",
       "    </tr>\n",
       "  </tbody>\n",
       "</table>\n",
       "</div>"
      ],
      "text/plain": [
       "   Iter  Before STL     STL  Second preproccess  ML phase  Full pipeline  \\\n",
       "0     1        0.85  174.87                8.73      5.78         190.22   \n",
       "1     2        0.81  190.41                9.01      5.76         205.98   \n",
       "2     3        0.79  191.06                9.25      5.80         206.90   \n",
       "3     4        0.83  183.50                8.15      5.68         198.16   \n",
       "4     5        0.79  168.58                1.41      5.82         176.60   \n",
       "\n",
       "   Full pipeline with data load  \n",
       "0                        190.26  \n",
       "1                        206.01  \n",
       "2                        206.93  \n",
       "3                        198.20  \n",
       "4                        176.63  "
      ]
     },
     "execution_count": 4,
     "metadata": {},
     "output_type": "execute_result"
    }
   ],
   "source": [
    "df_gpu = pd.read_csv('gpu.csv', sep=';', decimal=\",\")\n",
    "df_gpu.head()"
   ]
  },
  {
   "cell_type": "code",
   "execution_count": 5,
   "metadata": {},
   "outputs": [
    {
     "data": {
      "text/html": [
       "<div>\n",
       "<style scoped>\n",
       "    .dataframe tbody tr th:only-of-type {\n",
       "        vertical-align: middle;\n",
       "    }\n",
       "\n",
       "    .dataframe tbody tr th {\n",
       "        vertical-align: top;\n",
       "    }\n",
       "\n",
       "    .dataframe thead th {\n",
       "        text-align: right;\n",
       "    }\n",
       "</style>\n",
       "<table border=\"1\" class=\"dataframe\">\n",
       "  <thead>\n",
       "    <tr style=\"text-align: right;\">\n",
       "      <th>index</th>\n",
       "      <th>Before STL</th>\n",
       "      <th>STL</th>\n",
       "      <th>Second preproccess</th>\n",
       "      <th>ML phase</th>\n",
       "      <th>Full pipeline</th>\n",
       "    </tr>\n",
       "  </thead>\n",
       "  <tbody>\n",
       "    <tr>\n",
       "      <th>0</th>\n",
       "      <td>18.5727</td>\n",
       "      <td>256.569</td>\n",
       "      <td>20.5033</td>\n",
       "      <td>107.11</td>\n",
       "      <td>402.757</td>\n",
       "    </tr>\n",
       "  </tbody>\n",
       "</table>\n",
       "</div>"
      ],
      "text/plain": [
       "index Before STL      STL Second preproccess ML phase Full pipeline\n",
       "0        18.5727  256.569            20.5033   107.11       402.757"
      ]
     },
     "execution_count": 5,
     "metadata": {},
     "output_type": "execute_result"
    }
   ],
   "source": [
    "df_cpu_mean = df_cpu.iloc[:, 1:].apply(np.mean, axis=0).reset_index().T\n",
    "df_cpu_mean.columns = df_cpu_mean.iloc[0, :]\n",
    "df_cpu_mean = df_cpu_mean.iloc[1:, :-1]\n",
    "df_cpu_mean"
   ]
  },
  {
   "cell_type": "code",
   "execution_count": 6,
   "metadata": {},
   "outputs": [
    {
     "data": {
      "text/html": [
       "<div>\n",
       "<style scoped>\n",
       "    .dataframe tbody tr th:only-of-type {\n",
       "        vertical-align: middle;\n",
       "    }\n",
       "\n",
       "    .dataframe tbody tr th {\n",
       "        vertical-align: top;\n",
       "    }\n",
       "\n",
       "    .dataframe thead th {\n",
       "        text-align: right;\n",
       "    }\n",
       "</style>\n",
       "<table border=\"1\" class=\"dataframe\">\n",
       "  <thead>\n",
       "    <tr style=\"text-align: right;\">\n",
       "      <th>index</th>\n",
       "      <th>Before STL</th>\n",
       "      <th>STL</th>\n",
       "      <th>Second preproccess</th>\n",
       "      <th>ML phase</th>\n",
       "      <th>Full pipeline</th>\n",
       "    </tr>\n",
       "  </thead>\n",
       "  <tbody>\n",
       "    <tr>\n",
       "      <th>0</th>\n",
       "      <td>0.804667</td>\n",
       "      <td>174.426</td>\n",
       "      <td>3.434</td>\n",
       "      <td>5.774</td>\n",
       "      <td>184.437</td>\n",
       "    </tr>\n",
       "  </tbody>\n",
       "</table>\n",
       "</div>"
      ],
      "text/plain": [
       "index Before STL      STL Second preproccess ML phase Full pipeline\n",
       "0       0.804667  174.426              3.434    5.774       184.437"
      ]
     },
     "execution_count": 6,
     "metadata": {},
     "output_type": "execute_result"
    }
   ],
   "source": [
    "df_gpu_mean = df_gpu.iloc[:, 1:].apply(np.mean, axis=0).reset_index().T\n",
    "df_gpu_mean.columns = df_gpu_mean.iloc[0, :]\n",
    "df_gpu_mean = df_gpu_mean.iloc[1:, :-1]\n",
    "df_gpu_mean"
   ]
  },
  {
   "cell_type": "code",
   "execution_count": 7,
   "metadata": {},
   "outputs": [],
   "source": [
    "df_stats = df_cpu_mean.append(df_gpu_mean)\n",
    "df_stats.index = ['CPU', 'GPU']"
   ]
  },
  {
   "cell_type": "code",
   "execution_count": 8,
   "metadata": {},
   "outputs": [
    {
     "data": {
      "text/html": [
       "<div>\n",
       "<style scoped>\n",
       "    .dataframe tbody tr th:only-of-type {\n",
       "        vertical-align: middle;\n",
       "    }\n",
       "\n",
       "    .dataframe tbody tr th {\n",
       "        vertical-align: top;\n",
       "    }\n",
       "\n",
       "    .dataframe thead th {\n",
       "        text-align: right;\n",
       "    }\n",
       "</style>\n",
       "<table border=\"1\" class=\"dataframe\">\n",
       "  <thead>\n",
       "    <tr style=\"text-align: right;\">\n",
       "      <th>index</th>\n",
       "      <th>Before STL</th>\n",
       "      <th>STL</th>\n",
       "      <th>Second preproccess</th>\n",
       "      <th>ML phase</th>\n",
       "      <th>Full pipeline</th>\n",
       "    </tr>\n",
       "  </thead>\n",
       "  <tbody>\n",
       "    <tr>\n",
       "      <th>CPU</th>\n",
       "      <td>18.5727</td>\n",
       "      <td>256.569</td>\n",
       "      <td>20.5033</td>\n",
       "      <td>107.11</td>\n",
       "      <td>402.757</td>\n",
       "    </tr>\n",
       "    <tr>\n",
       "      <th>GPU</th>\n",
       "      <td>0.804667</td>\n",
       "      <td>174.426</td>\n",
       "      <td>3.434</td>\n",
       "      <td>5.774</td>\n",
       "      <td>184.437</td>\n",
       "    </tr>\n",
       "  </tbody>\n",
       "</table>\n",
       "</div>"
      ],
      "text/plain": [
       "index Before STL      STL Second preproccess ML phase Full pipeline\n",
       "CPU      18.5727  256.569            20.5033   107.11       402.757\n",
       "GPU     0.804667  174.426              3.434    5.774       184.437"
      ]
     },
     "execution_count": 8,
     "metadata": {},
     "output_type": "execute_result"
    }
   ],
   "source": [
    "df_stats"
   ]
  },
  {
   "cell_type": "code",
   "execution_count": 9,
   "metadata": {},
   "outputs": [
    {
     "data": {
      "text/plain": [
       "     index             \n",
       "CPU  Before STL             18.5727\n",
       "     STL                    256.569\n",
       "     Second preproccess     20.5033\n",
       "     ML phase                107.11\n",
       "     Full pipeline          402.757\n",
       "GPU  Before STL            0.804667\n",
       "     STL                    174.426\n",
       "     Second preproccess       3.434\n",
       "     ML phase                 5.774\n",
       "     Full pipeline          184.437\n",
       "dtype: object"
      ]
     },
     "execution_count": 9,
     "metadata": {},
     "output_type": "execute_result"
    }
   ],
   "source": [
    "df_stats.stack()"
   ]
  },
  {
   "cell_type": "code",
   "execution_count": 10,
   "metadata": {},
   "outputs": [
    {
     "data": {
      "text/html": [
       "<div>\n",
       "<style scoped>\n",
       "    .dataframe tbody tr th:only-of-type {\n",
       "        vertical-align: middle;\n",
       "    }\n",
       "\n",
       "    .dataframe tbody tr th {\n",
       "        vertical-align: top;\n",
       "    }\n",
       "\n",
       "    .dataframe thead th {\n",
       "        text-align: right;\n",
       "    }\n",
       "</style>\n",
       "<table border=\"1\" class=\"dataframe\">\n",
       "  <thead>\n",
       "    <tr style=\"text-align: right;\">\n",
       "      <th></th>\n",
       "      <th>Device</th>\n",
       "      <th>Phase</th>\n",
       "      <th>Time (s)</th>\n",
       "    </tr>\n",
       "  </thead>\n",
       "  <tbody>\n",
       "    <tr>\n",
       "      <th>0</th>\n",
       "      <td>CPU</td>\n",
       "      <td>Before STL</td>\n",
       "      <td>18.5727</td>\n",
       "    </tr>\n",
       "    <tr>\n",
       "      <th>1</th>\n",
       "      <td>CPU</td>\n",
       "      <td>STL</td>\n",
       "      <td>256.569</td>\n",
       "    </tr>\n",
       "    <tr>\n",
       "      <th>2</th>\n",
       "      <td>CPU</td>\n",
       "      <td>Second preproccess</td>\n",
       "      <td>20.5033</td>\n",
       "    </tr>\n",
       "    <tr>\n",
       "      <th>3</th>\n",
       "      <td>CPU</td>\n",
       "      <td>ML phase</td>\n",
       "      <td>107.11</td>\n",
       "    </tr>\n",
       "    <tr>\n",
       "      <th>4</th>\n",
       "      <td>CPU</td>\n",
       "      <td>Full pipeline</td>\n",
       "      <td>402.757</td>\n",
       "    </tr>\n",
       "    <tr>\n",
       "      <th>5</th>\n",
       "      <td>GPU</td>\n",
       "      <td>Before STL</td>\n",
       "      <td>0.804667</td>\n",
       "    </tr>\n",
       "    <tr>\n",
       "      <th>6</th>\n",
       "      <td>GPU</td>\n",
       "      <td>STL</td>\n",
       "      <td>174.426</td>\n",
       "    </tr>\n",
       "    <tr>\n",
       "      <th>7</th>\n",
       "      <td>GPU</td>\n",
       "      <td>Second preproccess</td>\n",
       "      <td>3.434</td>\n",
       "    </tr>\n",
       "    <tr>\n",
       "      <th>8</th>\n",
       "      <td>GPU</td>\n",
       "      <td>ML phase</td>\n",
       "      <td>5.774</td>\n",
       "    </tr>\n",
       "    <tr>\n",
       "      <th>9</th>\n",
       "      <td>GPU</td>\n",
       "      <td>Full pipeline</td>\n",
       "      <td>184.437</td>\n",
       "    </tr>\n",
       "  </tbody>\n",
       "</table>\n",
       "</div>"
      ],
      "text/plain": [
       "  Device               Phase  Time (s)\n",
       "0    CPU          Before STL   18.5727\n",
       "1    CPU                 STL   256.569\n",
       "2    CPU  Second preproccess   20.5033\n",
       "3    CPU            ML phase    107.11\n",
       "4    CPU       Full pipeline   402.757\n",
       "5    GPU          Before STL  0.804667\n",
       "6    GPU                 STL   174.426\n",
       "7    GPU  Second preproccess     3.434\n",
       "8    GPU            ML phase     5.774\n",
       "9    GPU       Full pipeline   184.437"
      ]
     },
     "execution_count": 10,
     "metadata": {},
     "output_type": "execute_result"
    }
   ],
   "source": [
    "df_stats_stacked = pd.DataFrame(df_stats.stack()).reset_index().rename({'level_0': 'Device', 'index': 'Phase', 0: 'Time (s)'}, axis=1)\n",
    "df_stats_stacked"
   ]
  },
  {
   "cell_type": "code",
   "execution_count": 11,
   "metadata": {},
   "outputs": [
    {
     "data": {
      "text/plain": [
       "<AxesSubplot:xlabel='Phase', ylabel='Time (s)'>"
      ]
     },
     "execution_count": 11,
     "metadata": {},
     "output_type": "execute_result"
    },
    {
     "data": {
      "image/png": "[encoded data removed]",
      "text/plain": [
       "<Figure size 432x288 with 1 Axes>"
      ]
     },
     "metadata": {
      "needs_background": "light"
     },
     "output_type": "display_data"
    }
   ],
   "source": [
    "sns.barplot(x='Phase', y='Time (s)', hue='Device', data=df_stats_stacked)"
   ]
  },
  {
   "cell_type": "code",
   "execution_count": 12,
   "metadata": {},
   "outputs": [
    {
     "data": {
      "text/html": [
       "<div>\n",
       "<style scoped>\n",
       "    .dataframe tbody tr th:only-of-type {\n",
       "        vertical-align: middle;\n",
       "    }\n",
       "\n",
       "    .dataframe tbody tr th {\n",
       "        vertical-align: top;\n",
       "    }\n",
       "\n",
       "    .dataframe thead th {\n",
       "        text-align: right;\n",
       "    }\n",
       "</style>\n",
       "<table border=\"1\" class=\"dataframe\">\n",
       "  <thead>\n",
       "    <tr style=\"text-align: right;\">\n",
       "      <th>index</th>\n",
       "      <th>Before STL</th>\n",
       "      <th>STL</th>\n",
       "      <th>Second preproccess</th>\n",
       "      <th>ML phase</th>\n",
       "      <th>Full pipeline</th>\n",
       "    </tr>\n",
       "  </thead>\n",
       "  <tbody>\n",
       "    <tr>\n",
       "      <th>CPU</th>\n",
       "      <td>18.57</td>\n",
       "      <td>256.57</td>\n",
       "      <td>20.50</td>\n",
       "      <td>107.11</td>\n",
       "      <td>402.76</td>\n",
       "    </tr>\n",
       "    <tr>\n",
       "      <th>GPU</th>\n",
       "      <td>0.80</td>\n",
       "      <td>174.43</td>\n",
       "      <td>3.43</td>\n",
       "      <td>5.77</td>\n",
       "      <td>184.44</td>\n",
       "    </tr>\n",
       "  </tbody>\n",
       "</table>\n",
       "</div>"
      ],
      "text/plain": [
       "index  Before STL     STL  Second preproccess  ML phase  Full pipeline\n",
       "CPU         18.57  256.57               20.50    107.11         402.76\n",
       "GPU          0.80  174.43                3.43      5.77         184.44"
      ]
     },
     "execution_count": 12,
     "metadata": {},
     "output_type": "execute_result"
    }
   ],
   "source": [
    "df_stats.astype(float).round(2)"
   ]
  },
  {
   "cell_type": "code",
   "execution_count": 18,
   "metadata": {},
   "outputs": [
    {
     "data": {
      "image/png": "[encoded data removed]",
      "text/plain": [
       "<Figure size 1080x1080 with 1 Axes>"
      ]
     },
     "metadata": {
      "needs_background": "light"
     },
     "output_type": "display_data"
    }
   ],
   "source": [
    "labels = df_stats.columns\n",
    "men_means = df_stats.astype(float).round(3).iloc[0, :]\n",
    "women_means = df_stats.astype(float).round(3).iloc[1, :]\n",
    "\n",
    "x = np.arange(len(labels))  # the label locations\n",
    "width = 0.45  # the width of the bars\n",
    "\n",
    "fig, ax = plt.subplots(figsize=(15,15))\n",
    "rects1 = ax.bar(x - width/2, men_means, width, label='CPU')\n",
    "rects2 = ax.bar(x + width/2, women_means, width, label='GPU')\n",
    "\n",
    "# Add some text for labels, title and custom x-axis tick labels, etc.\n",
    "ax.set_ylabel('Time (s)', fontsize='18')\n",
    "ax.set_title('Average runtime by device type', fontsize='18')\n",
    "ax.set_xticks(x)\n",
    "ax.set_xticklabels(labels, fontsize='18')\n",
    "ax.legend()\n",
    "\n",
    "\n",
    "def autolabel(rects):\n",
    "    \"\"\"Attach a text label above each bar in *rects*, displaying its height.\"\"\"\n",
    "    for idx, rect in enumerate(rects):\n",
    "        height = rect.get_height()\n",
    "        ax.annotate('{}'.format(height),\n",
    "                    xy=(rect.get_x() + rect.get_width() / 2, height),\n",
    "                    xytext=(0, 3),  # 3 points vertical offset\n",
    "                    textcoords=\"offset points\",\n",
    "                    ha='center', va='bottom', fontsize='14')\n",
    "\n",
    "\n",
    "autolabel(rects1)\n",
    "autolabel(rects2)\n",
    "\n",
    "# fig.tight_layout()\n",
    "\n",
    "# plt.show()\n",
    "plt.savefig('avg_runtime.pdf', dpi=72)  "
   ]
  },
  {
   "cell_type": "code",
   "execution_count": 95,
   "metadata": {},
   "outputs": [
    {
     "data": {
      "text/plain": [
       "array([23.081193040596517, 1.4709313214008617, 5.9706853038245,\n",
       "       18.550398337374435, 2.183704672951247], dtype=object)"
      ]
     },
     "execution_count": 95,
     "metadata": {},
     "output_type": "execute_result"
    }
   ],
   "source": [
    "(df_stats.iloc[0] / df_stats.iloc[1]).values"
   ]
  },
  {
   "cell_type": "code",
   "execution_count": 21,
   "metadata": {},
   "outputs": [
    {
     "data": {
      "image/png": "[encoded data removed]",
      "text/plain": [
       "<Figure size 1080x1080 with 1 Axes>"
      ]
     },
     "metadata": {
      "needs_background": "light"
     },
     "output_type": "display_data"
    }
   ],
   "source": [
    "labels = df_stats.columns\n",
    "men_means = (df_stats.iloc[0] / df_stats.iloc[1]).astype(float).round(1).values\n",
    "\n",
    "x = np.arange(len(labels))  # the label locations\n",
    "width = 0.5  # the width of the bars\n",
    "\n",
    "fig, ax = plt.subplots(figsize=(15,15))\n",
    "rects1 = ax.bar(labels, men_means, label='Average speedup by using GPU')\n",
    "\n",
    "# Add some text for labels, title and custom x-axis tick labels, etc.\n",
    "ax.set_ylabel('Average speedup', fontsize='18')\n",
    "ax.set_title('Average speedup', fontsize='18')\n",
    "ax.set_xticks(x)\n",
    "ax.set_xticklabels(labels, fontsize='18')\n",
    "ax.legend()\n",
    "\n",
    "\n",
    "def autolabel(rects):\n",
    "    \"\"\"Attach a text label above each bar in *rects*, displaying its height.\"\"\"\n",
    "    for idx, rect in enumerate(rects):\n",
    "        height = rect.get_height()\n",
    "        ax.annotate('{}'.format(height),\n",
    "                    xy=(rect.get_x() + rect.get_width() / 2, height),\n",
    "                    xytext=(0, 3),  # 3 points vertical offset\n",
    "                    textcoords=\"offset points\",\n",
    "                    ha='center', va='bottom', fontsize='14')\n",
    "\n",
    "\n",
    "autolabel(rects1)\n",
    "\n",
    "# fig.tight_layout()\n",
    "\n",
    "# plt.show()\n",
    "plt.savefig('avg_speedup.pdf', dpi=72)  "
   ]
  },
  {
   "cell_type": "code",
   "execution_count": null,
   "metadata": {},
   "outputs": [],
   "source": []
  }
 ],
 "metadata": {
  "kernelspec": {
   "display_name": "Python 3",
   "language": "python",
   "name": "python3"
  },
  "language_info": {
   "codemirror_mode": {
    "name": "ipython",
    "version": 3
   },
   "file_extension": ".py",
   "mimetype": "text/x-python",
   "name": "python",
   "nbconvert_exporter": "python",
   "pygments_lexer": "ipython3",
   "version": "3.7.7"
  }
 },
 "nbformat": 4,
 "nbformat_minor": 4
}
